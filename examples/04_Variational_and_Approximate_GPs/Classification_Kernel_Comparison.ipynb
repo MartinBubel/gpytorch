{
 "cells": [
  {
   "cell_type": "markdown",
   "metadata": {},
   "source": [
    "# Kernel Comparison for Approximate Gaussian Process Classification\n",
    "The kernel functions of the Radial Basis Function (RBF) and the Laplacian<br>\n",
    "$$ k_{\\text{RBF}}(\\mathbf{x_1}, \\mathbf{x_2}) = \\exp \\left( -\\frac{1}{2} (\\mathbf{x_1} - \\mathbf{x_2})^\\top \\Theta^{-2} (\\mathbf{x_1} - \\mathbf{x_2}) \\right) $$\n",
    "$$ k_{\\text{Laplacian}}(\\mathbf{x_1}, \\mathbf{x_2}) = \\exp \\left( - \\left(\\mathbf{x_1} - \\mathbf{x_2}\\right)^\\top \\Theta^{-1} \\left(\\mathbf{x_1} - \\mathbf{x_2}\\right) \\right) $$\n",
    "are fairly similar. However, the Laplacian kernel transform data differently than the RBF kernel and can be better suited for curve-shaped data, see e.g. [Bauckhage et al.](https://ieeexplore.ieee.org/document/9260042).<br>\n",
    "In this notebook, the RBF and Laplacian kernel are compared on their suitability in classification task using an Approximate Gaussian Process."
   ]
  },
  {
   "cell_type": "markdown",
   "metadata": {},
   "source": [
    "## Data\n",
    "The data we will be looking at in this demonstration are two half-moon-shaped clusters of two-dimensional datapoints."
   ]
  },
  {
   "cell_type": "code",
   "execution_count": 4,
   "metadata": {},
   "outputs": [
    {
     "data": {
      "image/png": "[encoded data removed]",
      "text/plain": [
       "<Figure size 432x288 with 1 Axes>"
      ]
     },
     "metadata": {
      "needs_background": "light"
     },
     "output_type": "display_data"
    }
   ],
   "source": [
    "import matplotlib.pyplot as plt\n",
    "from sklearn.datasets import make_moons\n",
    "\n",
    "x, y = make_moons(n_samples=200, shuffle=False, noise=0.1)\n",
    "\n",
    "plt.figure()\n",
    "plt.plot(x[y == 0, 0], x[y == 0, 1], 'o', color='blue')\n",
    "plt.plot(x[y == 1, 0], x[y == 1, 1], '*', color='black')\n",
    "plt.legend([\"Class A\", \"Class B\"])\n",
    "plt.xlabel(r'$x_1$')\n",
    "plt.xlabel(r'$x_2$')\n",
    "plt.show()"
   ]
  },
  {
   "cell_type": "markdown",
   "metadata": {},
   "source": [
    "## Classifier\n",
    "An Approximate Gaussian Process will be used as a classifier to identify members of class A (blue circles) in the above plot."
   ]
  },
  {
   "cell_type": "code",
   "execution_count": 6,
   "metadata": {},
   "outputs": [],
   "source": [
    "import gpytorch\n",
    "import torch\n",
    "from gpytorch.likelihoods import likelihood\n",
    "from gpytorch.models import ApproximateGP\n",
    "from gpytorch.variational import CholeskyVariationalDistribution\n",
    "from gpytorch.variational import UnwhitenedVariationalStrategy"
   ]
  },
  {
   "cell_type": "code",
   "execution_count": 7,
   "metadata": {},
   "outputs": [],
   "source": [
    "# Setting up the classification model\n",
    "class GPClassificationModel(ApproximateGP):\n",
    "    def __init__(self, train_x, base_kernel):\n",
    "        variational_distribution = CholeskyVariationalDistribution(train_x.size(0))\n",
    "        variational_strategy = UnwhitenedVariationalStrategy(\n",
    "            self, train_x, variational_distribution, learn_inducing_locations=False\n",
    "        )\n",
    "        super(GPClassificationModel, self).__init__(variational_strategy)\n",
    "        self.mean_module = gpytorch.means.ConstantMean()\n",
    "        self.covar_module = gpytorch.kernels.ScaleKernel(base_kernel)\n",
    "\n",
    "    def forward(self, x):\n",
    "        mean_x = self.mean_module(x)\n",
    "        covar_x = self.covar_module(x)\n",
    "        latent_pred = gpytorch.distributions.MultivariateNormal(mean_x, covar_x)\n",
    "        return latent_pred"
   ]
  },
  {
   "cell_type": "markdown",
   "metadata": {},
   "source": [
    "Randomly splitting the dataset into a training- and validation subset."
   ]
  },
  {
   "cell_type": "code",
   "execution_count": 8,
   "metadata": {},
   "outputs": [],
   "source": [
    "x = torch.from_numpy(x).float()\n",
    "y = torch.from_numpy(y).float()\n",
    "\n",
    "torch.random.manual_seed(0)\n",
    "rands = torch.rand(len(y))\n",
    "train_x = x[rands <= 0.8]\n",
    "train_y = y[rands <= 0.8]\n",
    "test_x = x[rands > 0.8]\n",
    "test_y = y[rands > 0.8]\n",
    "\n",
    "\n",
    "# Initialize likelihoods by using the RBF and the Laplacian Kernel\n",
    "base_kernels = [gpytorch.kernels.RBFKernel(), gpytorch.kernels.LaplacianKernel()]\n",
    "likelihoods = [gpytorch.likelihoods.BernoulliLikelihood() for _ in base_kernels]\n",
    "\n",
    "# Initialize models by using the RBF and the Laplacian Kernel\n",
    "models = [GPClassificationModel(train_x, base_kernel) for base_kernel in base_kernels]"
   ]
  },
  {
   "cell_type": "markdown",
   "metadata": {},
   "source": [
    "Train the classifier using the `RBFKernel`:"
   ]
  },
  {
   "cell_type": "code",
   "execution_count": 9,
   "metadata": {},
   "outputs": [
    {
     "name": "stdout",
     "output_type": "stream",
     "text": [
      "Iter 1/50 - Loss: 0.909\n",
      "Iter 2/50 - Loss: 43.355\n",
      "Iter 3/50 - Loss: 101.690\n",
      "Iter 4/50 - Loss: 34.954\n",
      "Iter 5/50 - Loss: 53.538\n",
      "Iter 6/50 - Loss: 54.186\n",
      "Iter 7/50 - Loss: 28.762\n",
      "Iter 8/50 - Loss: 17.917\n",
      "Iter 9/50 - Loss: 22.284\n",
      "Iter 10/50 - Loss: 22.294\n",
      "Iter 11/50 - Loss: 15.335\n",
      "Iter 12/50 - Loss: 9.789\n",
      "Iter 13/50 - Loss: 9.074\n",
      "Iter 14/50 - Loss: 9.751\n",
      "Iter 15/50 - Loss: 8.780\n",
      "Iter 16/50 - Loss: 6.737\n",
      "Iter 17/50 - Loss: 5.185\n",
      "Iter 18/50 - Loss: 4.615\n",
      "Iter 19/50 - Loss: 4.376\n",
      "Iter 20/50 - Loss: 3.948\n",
      "Iter 21/50 - Loss: 3.434\n",
      "Iter 22/50 - Loss: 3.050\n",
      "Iter 23/50 - Loss: 2.805\n",
      "Iter 24/50 - Loss: 2.628\n",
      "Iter 25/50 - Loss: 2.458\n",
      "Iter 26/50 - Loss: 2.302\n",
      "Iter 27/50 - Loss: 2.182\n",
      "Iter 28/50 - Loss: 2.098\n",
      "Iter 29/50 - Loss: 2.033\n",
      "Iter 30/50 - Loss: 1.974\n",
      "Iter 31/50 - Loss: 1.918\n",
      "Iter 32/50 - Loss: 1.868\n",
      "Iter 33/50 - Loss: 1.823\n",
      "Iter 34/50 - Loss: 1.781\n",
      "Iter 35/50 - Loss: 1.741\n",
      "Iter 36/50 - Loss: 1.706\n",
      "Iter 37/50 - Loss: 1.672\n",
      "Iter 38/50 - Loss: 1.641\n",
      "Iter 39/50 - Loss: 1.612\n",
      "Iter 40/50 - Loss: 1.586\n",
      "Iter 41/50 - Loss: 1.560\n",
      "Iter 42/50 - Loss: 1.533\n",
      "Iter 43/50 - Loss: 1.507\n",
      "Iter 44/50 - Loss: 1.481\n",
      "Iter 45/50 - Loss: 1.457\n",
      "Iter 46/50 - Loss: 1.434\n",
      "Iter 47/50 - Loss: 1.411\n",
      "Iter 48/50 - Loss: 1.389\n",
      "Iter 49/50 - Loss: 1.368\n",
      "Iter 50/50 - Loss: 1.348\n"
     ]
    }
   ],
   "source": [
    "# this is for running the notebook in our testing framework\n",
    "import os\n",
    "smoke_test = ('CI' in os.environ)\n",
    "training_iterations = 2 if smoke_test else 50\n",
    "assert training_iterations > 2, \"Why smoke_test?\"  # TODO: Remove\n",
    "\n",
    "# Model 1\n",
    "rbf_model = models[0]\n",
    "rbf_likelihood = likelihoods[0]\n",
    "\n",
    "# Find optimal model hyperparameters\n",
    "rbf_model.train()\n",
    "rbf_likelihood.train()\n",
    "\n",
    "# Use the adam optimizer\n",
    "optimizer = torch.optim.Adam(rbf_model.parameters(), lr=0.1)\n",
    "\n",
    "# \"Loss\" for GPs - the marginal log likelihood\n",
    "# num_data refers to the number of training datapoints\n",
    "mll = gpytorch.mlls.VariationalELBO(rbf_likelihood, rbf_model, train_y.numel())\n",
    "\n",
    "for i in range(training_iterations):\n",
    "    # Zero backpropped gradients from previous iteration\n",
    "    optimizer.zero_grad()\n",
    "    # Get predictive output\n",
    "    output = rbf_model(train_x)\n",
    "    # Calc loss and backprop gradients\n",
    "    loss = -mll(output, train_y)\n",
    "    loss.backward()\n",
    "    print('Iter %d/%d - Loss: %.3f' % (i + 1, training_iterations, loss.item()))\n",
    "    optimizer.step()"
   ]
  },
  {
   "cell_type": "markdown",
   "metadata": {},
   "source": [
    "Train the classifier using the `LaplacianKernel`:"
   ]
  },
  {
   "cell_type": "code",
   "execution_count": 10,
   "metadata": {},
   "outputs": [
    {
     "name": "stdout",
     "output_type": "stream",
     "text": [
      "Iter 1/50 - Loss: 0.908\n",
      "Iter 2/50 - Loss: 1.281\n",
      "Iter 3/50 - Loss: 1.066\n",
      "Iter 4/50 - Loss: 1.329\n",
      "Iter 5/50 - Loss: 1.442\n",
      "Iter 6/50 - Loss: 1.158\n",
      "Iter 7/50 - Loss: 1.110\n",
      "Iter 8/50 - Loss: 0.920\n",
      "Iter 9/50 - Loss: 0.714\n",
      "Iter 10/50 - Loss: 0.645\n",
      "Iter 11/50 - Loss: 0.649\n",
      "Iter 12/50 - Loss: 0.622\n",
      "Iter 13/50 - Loss: 0.546\n",
      "Iter 14/50 - Loss: 0.463\n",
      "Iter 15/50 - Loss: 0.412\n",
      "Iter 16/50 - Loss: 0.394\n",
      "Iter 17/50 - Loss: 0.391\n",
      "Iter 18/50 - Loss: 0.385\n",
      "Iter 19/50 - Loss: 0.370\n",
      "Iter 20/50 - Loss: 0.350\n",
      "Iter 21/50 - Loss: 0.331\n",
      "Iter 22/50 - Loss: 0.319\n",
      "Iter 23/50 - Loss: 0.313\n",
      "Iter 24/50 - Loss: 0.311\n",
      "Iter 25/50 - Loss: 0.310\n",
      "Iter 26/50 - Loss: 0.306\n",
      "Iter 27/50 - Loss: 0.301\n",
      "Iter 28/50 - Loss: 0.294\n",
      "Iter 29/50 - Loss: 0.288\n",
      "Iter 30/50 - Loss: 0.282\n",
      "Iter 31/50 - Loss: 0.278\n",
      "Iter 32/50 - Loss: 0.274\n",
      "Iter 33/50 - Loss: 0.271\n",
      "Iter 34/50 - Loss: 0.267\n",
      "Iter 35/50 - Loss: 0.263\n",
      "Iter 36/50 - Loss: 0.258\n",
      "Iter 37/50 - Loss: 0.254\n",
      "Iter 38/50 - Loss: 0.249\n",
      "Iter 39/50 - Loss: 0.245\n",
      "Iter 40/50 - Loss: 0.241\n",
      "Iter 41/50 - Loss: 0.238\n",
      "Iter 42/50 - Loss: 0.235\n",
      "Iter 43/50 - Loss: 0.231\n",
      "Iter 44/50 - Loss: 0.228\n",
      "Iter 45/50 - Loss: 0.225\n",
      "Iter 46/50 - Loss: 0.222\n",
      "Iter 47/50 - Loss: 0.219\n",
      "Iter 48/50 - Loss: 0.216\n",
      "Iter 49/50 - Loss: 0.214\n",
      "Iter 50/50 - Loss: 0.212\n"
     ]
    }
   ],
   "source": [
    "# Model 2\n",
    "laplacian_model = models[1]\n",
    "laplacian_likelihood = likelihoods[1]\n",
    "\n",
    "# Find optimal model hyperparameters\n",
    "laplacian_model.train()\n",
    "laplacian_likelihood.train()\n",
    "\n",
    "# Use the adam optimizer\n",
    "optimizer = torch.optim.Adam(laplacian_model.parameters(), lr=0.1)\n",
    "\n",
    "# \"Loss\" for GPs - the marginal log likelihood\n",
    "# num_data refers to the number of training datapoints\n",
    "mll = gpytorch.mlls.VariationalELBO(laplacian_likelihood, laplacian_model, train_y.numel())\n",
    "\n",
    "for i in range(training_iterations):\n",
    "    # Zero backpropped gradients from previous iteration\n",
    "    optimizer.zero_grad()\n",
    "    # Get predictive output\n",
    "    output = laplacian_model(train_x)\n",
    "    # Calc loss and backprop gradients\n",
    "    loss = -mll(output, train_y)\n",
    "    loss.backward()\n",
    "    print('Iter %d/%d - Loss: %.3f' % (i + 1, training_iterations, loss.item()))\n",
    "    optimizer.step()"
   ]
  },
  {
   "cell_type": "markdown",
   "metadata": {},
   "source": [
    "Evaluate the two models:"
   ]
  },
  {
   "cell_type": "code",
   "execution_count": 12,
   "metadata": {},
   "outputs": [],
   "source": [
    "# Radial Basis Function Kernel\n",
    "# Go into eval mode\n",
    "rbf_model.eval()\n",
    "rbf_likelihood.eval()\n",
    "    \n",
    "rbf_f_preds = rbf_model(test_x)\n",
    "rbf_y_preds = rbf_likelihood(rbf_model(test_x))\n",
    "\n",
    "rbf_f_mean = rbf_f_preds.mean\n",
    "rbf_f_samples = rbf_f_preds.sample(sample_shape=torch.Size((1000,)))\n",
    "\n",
    "with torch.no_grad():\n",
    "    # Get classification predictions\n",
    "    rbf_observed_pred = rbf_likelihood(rbf_model(test_x))\n",
    "\n",
    "rbf_observed_pred = rbf_observed_pred.mean\n",
    "\n",
    "\n",
    "# Laplacian Kernel\n",
    "# Go into eval mode\n",
    "laplacian_model.eval()\n",
    "laplacian_likelihood.eval()\n",
    "\n",
    "laplacian_f_preds = laplacian_model(test_x)\n",
    "laplacian_y_preds = laplacian_likelihood(laplacian_model(test_x))\n",
    "\n",
    "laplacian_f_mean = laplacian_f_preds.mean\n",
    "laplacian_f_samples = laplacian_f_preds.sample(sample_shape=torch.Size((1000,)))\n",
    "\n",
    "with torch.no_grad():\n",
    "    # Get classification predictions\n",
    "    laplacian_observed_pred = laplacian_likelihood(laplacian_model(test_x))\n",
    "\n",
    "laplacian_observed_pred = laplacian_observed_pred.mean"
   ]
  },
  {
   "cell_type": "code",
   "execution_count": 19,
   "metadata": {},
   "outputs": [
    {
     "data": {
      "image/png": "[encoded data removed]",
      "text/plain": [
       "<Figure size 864x360 with 2 Axes>"
      ]
     },
     "metadata": {
      "needs_background": "light"
     },
     "output_type": "display_data"
    }
   ],
   "source": [
    "# Initialize fig and axes for plot\n",
    "fig, axs = plt.subplots(1, 2, figsize=(12, 5))\n",
    "(ax1, ax2) = axs\n",
    "\n",
    "# plot the results obtained using the RBF kernel\n",
    "ax1.plot(test_x[test_y == 0, 0], test_x[test_y == 0, 1], 'o', color='blue')\n",
    "ax1.plot(test_x[test_y == 1, 0], test_x[test_y == 1, 1], 's', color='black')\n",
    "ax1.plot(test_x[rbf_observed_pred <= 0.5, 0], test_x[rbf_observed_pred <= 0.5, 1], '.')\n",
    "ax1.plot(test_x[rbf_observed_pred >= 0.5, 0], test_x[rbf_observed_pred >= 0.5, 1], '.')\n",
    "ax1.set_xlabel(r'$x_1$')\n",
    "ax1.set_ylabel(r'$x_2$')\n",
    "ax1.legend([\"Test Class A\", \"Test Class B\", \"Pred Class A\", \"Pred Class B\"])\n",
    "ax1.set_title(\"RBF Kernel\")\n",
    "\n",
    "# plot the results obtained using the Laplacian kernel\n",
    "ax2.plot(test_x[test_y == 0, 0], test_x[test_y == 0, 1], 'o', color='blue')\n",
    "ax2.plot(test_x[test_y == 1, 0], test_x[test_y == 1, 1], 's', color='black')\n",
    "ax2.plot(test_x[laplacian_observed_pred <= 0.5, 0], test_x[laplacian_observed_pred <= 0.5, 1], '.')\n",
    "ax2.plot(test_x[laplacian_observed_pred >= 0.5, 0], test_x[laplacian_observed_pred >= 0.5, 1], '.')\n",
    "ax2.set_xlabel(r'$x_1$')\n",
    "ax2.set_ylabel(r'$x_2$')\n",
    "# ax2.legend([\"Test Class A\", \"Test Class B\", \"Pred Laplacian Class A\", \"Pred Laplacian Class B\"])\n",
    "ax2.set_title(\"Laplacian Kernel\")\n",
    "\n",
    "plt.show()"
   ]
  },
  {
   "cell_type": "markdown",
   "metadata": {},
   "source": [
    "**TODO**\n",
    "+ Also plot contours highlighting the decision boundary of the AGP\n",
    "+ Improve the plot so it is more easy to read."
   ]
  },
  {
   "cell_type": "code",
   "execution_count": null,
   "metadata": {},
   "outputs": [],
   "source": []
  }
 ],
 "metadata": {
  "kernelspec": {
   "display_name": "Python 3 (ipykernel)",
   "language": "python",
   "name": "python3"
  },
  "language_info": {
   "codemirror_mode": {
    "name": "ipython",
    "version": 3
   },
   "file_extension": ".py",
   "mimetype": "text/x-python",
   "name": "python",
   "nbconvert_exporter": "python",
   "pygments_lexer": "ipython3",
   "version": "3.8.5"
  }
 },
 "nbformat": 4,
 "nbformat_minor": 4
}
